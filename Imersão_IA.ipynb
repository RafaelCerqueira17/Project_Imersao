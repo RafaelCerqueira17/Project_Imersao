{
  "nbformat": 4,
  "nbformat_minor": 0,
  "metadata": {
    "colab": {
      "provenance": [],
      "authorship_tag": "ABX9TyPCut0p7yYNA4Bldsd7TnCM",
      "include_colab_link": true
    },
    "kernelspec": {
      "name": "python3",
      "display_name": "Python 3"
    },
    "language_info": {
      "name": "python"
    }
  },
  "cells": [
    {
      "cell_type": "markdown",
      "metadata": {
        "id": "view-in-github",
        "colab_type": "text"
      },
      "source": [
        "<a href=\"https://colab.research.google.com/github/RafaelCerqueira17/Project_Imersao/blob/main/Imers%C3%A3o_IA.ipynb\" target=\"_parent\"><img src=\"https://colab.research.google.com/assets/colab-badge.svg\" alt=\"Open In Colab\"/></a>"
      ]
    },
    {
      "cell_type": "code",
      "execution_count": 2,
      "metadata": {
        "id": "j64KvWwZ_7Ih"
      },
      "outputs": [],
      "source": [
        "!pip install -q -U google-generativeai"
      ]
    },
    {
      "cell_type": "code",
      "source": [
        "#Configurações iniciais\n",
        "import google.generativeai as genai\n",
        "from google.colab import userdata\n",
        "api_key = userdata.get('secretName')\n",
        "genai.configure(api_key=api_key)"
      ],
      "metadata": {
        "id": "5wykbwpYD7jG"
      },
      "execution_count": 20,
      "outputs": []
    },
    {
      "cell_type": "code",
      "source": [
        "#Listando os modelos disponíveis\n",
        "for m in genai.list_models():\n",
        "  if 'generateContent' in m.supported_generation_methods:\n",
        "    print(m.name)"
      ],
      "metadata": {
        "colab": {
          "base_uri": "https://localhost:8080/",
          "height": 139
        },
        "id": "9Bfmo7DdEC-F",
        "outputId": "44c7d5b5-cf4b-455a-a658-859fc7cbfc7f"
      },
      "execution_count": 5,
      "outputs": [
        {
          "output_type": "stream",
          "name": "stdout",
          "text": [
            "models/gemini-1.0-pro\n",
            "models/gemini-1.0-pro-001\n",
            "models/gemini-1.0-pro-latest\n",
            "models/gemini-1.0-pro-vision-latest\n",
            "models/gemini-1.5-pro-latest\n",
            "models/gemini-pro\n",
            "models/gemini-pro-vision\n"
          ]
        }
      ]
    },
    {
      "cell_type": "code",
      "source": [
        "generation_config = {\n",
        "  \"candidate_count\": 1,\n",
        "  \"temperature\": 0.5,\n",
        "}"
      ],
      "metadata": {
        "id": "O2UU3CCFEIee"
      },
      "execution_count": 7,
      "outputs": []
    },
    {
      "cell_type": "code",
      "source": [
        "safety_settings={\n",
        "    'HATE': 'BLOCK_NONE',\n",
        "    'HARASSMENT': 'BLOCK_NONE',\n",
        "    'SEXUAL' : 'BLOCK_NONE',\n",
        "    'DANGEROUS' : 'BLOCK_NONE'\n",
        "    }"
      ],
      "metadata": {
        "id": "uBZ1xmKWEOju"
      },
      "execution_count": 8,
      "outputs": []
    },
    {
      "cell_type": "code",
      "source": [
        "model = genai.GenerativeModel(model_name='gemini-1.0-pro',\n",
        "                                  generation_config=generation_config,\n",
        "                                  safety_settings=safety_settings,)"
      ],
      "metadata": {
        "id": "78cK4KRtESde"
      },
      "execution_count": 10,
      "outputs": []
    },
    {
      "cell_type": "code",
      "source": [
        "response = model.generate_content(\"Quem foi o criador do anime Dragon Ball Z?\")\n",
        "response.text"
      ],
      "metadata": {
        "colab": {
          "base_uri": "https://localhost:8080/",
          "height": 35
        },
        "id": "OJBpawlpEXI0",
        "outputId": "c1504be8-3ecc-4628-8aa5-312ad79295c0"
      },
      "execution_count": 12,
      "outputs": [
        {
          "output_type": "execute_result",
          "data": {
            "text/plain": [
              "'Akira Toriyama'"
            ],
            "application/vnd.google.colaboratory.intrinsic+json": {
              "type": "string"
            }
          },
          "metadata": {},
          "execution_count": 12
        }
      ]
    },
    {
      "cell_type": "code",
      "source": [
        "chat = model.start_chat(history=[])\n",
        "\n",
        "prompt = input('Esperando prompt: ')\n",
        "\n",
        "while prompt != \"fim\":\n",
        "  response = chat.send_message(prompt)\n",
        "  print(\"Resposta:\", response.text, '\\n\\n')\n",
        "  prompt = input('Esperando prompt: ')"
      ],
      "metadata": {
        "colab": {
          "base_uri": "https://localhost:8080/",
          "height": 1000
        },
        "id": "LPH4oUADEcN1",
        "outputId": "255d3c8c-f347-42fd-9330-b373592f5b68"
      },
      "execution_count": 21,
      "outputs": [
        {
          "name": "stdout",
          "output_type": "stream",
          "text": [
            "Esperando prompt: Cruzeiro Esporte Clube\n",
            "Resposta: **Cruzeiro Esporte Clube**\n",
            "\n",
            "**Apelidos:**\n",
            "* Raposa\n",
            "* Celeste\n",
            "\n",
            "**Fundação:**\n",
            "* 2 de janeiro de 1921\n",
            "\n",
            "**Estádio:**\n",
            "* Mineirão\n",
            "\n",
            "**Cidade:**\n",
            "* Belo Horizonte, Minas Gerais\n",
            "\n",
            "**Torcida:**\n",
            "* Maior torcida de Minas Gerais\n",
            "* 3ª maior torcida do Brasil\n",
            "\n",
            "**Títulos Nacionais:**\n",
            "\n",
            "* Campeonato Brasileiro Série A: 4 (1966, 2003, 2013, 2014)\n",
            "* Campeonato Brasileiro Série B: 1 (2022)\n",
            "* Copa do Brasil: 6 (1993, 1996, 2000, 2003, 2017, 2018)\n",
            "\n",
            "**Títulos Internacionais:**\n",
            "\n",
            "* Copa Libertadores da América: 2 (1976, 1997)\n",
            "* Copa Sul-Americana: 2 (1992, 2018)\n",
            "* Recopa Sul-Americana: 1 (1998)\n",
            "* Copa Master da Conmebol: 1 (1999)\n",
            "\n",
            "**Principais Jogadores:**\n",
            "\n",
            "* Tostão\n",
            "* Ronaldo\n",
            "* Rivaldo\n",
            "* Alex\n",
            "* Thiago Neves\n",
            "\n",
            "**Técnicos Marcantes:**\n",
            "\n",
            "* Telê Santana\n",
            "* Vanderlei Luxemburgo\n",
            "* Paulo Autuori\n",
            "* Mano Menezes\n",
            "* Rogério Ceni\n",
            "\n",
            "**Rivalidades:**\n",
            "\n",
            "* Atlético Mineiro\n",
            "* América Mineiro\n",
            "\n",
            "**Símbolos:**\n",
            "\n",
            "* **Mascote:** Raposinha\n",
            "* **Escudo:** Azul-celeste com uma cruz branca\n",
            "* **Hino:** \"Hino do Cruzeiro\"\n",
            "\n",
            "**Outras Informações:**\n",
            "\n",
            "* O Cruzeiro é um dos clubes mais tradicionais e vitoriosos do futebol brasileiro.\n",
            "* O clube tem uma das maiores torcidas do país e é conhecido por sua paixão e apoio incondicional.\n",
            "* O Cruzeiro enfrentou dificuldades financeiras nos últimos anos, mas conseguiu se recuperar e retornar à elite do futebol brasileiro em 2023. \n",
            "\n",
            "\n",
            "Esperando prompt: fim\n"
          ]
        }
      ]
    },
    {
      "cell_type": "code",
      "source": [
        "#Melhorando a visualização\n",
        "#Código disponível em https://ai.google.dev/tutorials/python_quickstart#import_packages\n",
        "import textwrap\n",
        "from IPython.display import display\n",
        "from IPython.display import Markdown\n",
        "\n",
        "def to_markdown(text):\n",
        "  text = text.replace('•', '  *')\n",
        "  return Markdown(textwrap.indent(text, '> ', predicate=lambda _: True))\n",
        "\n",
        "#Imprimindo o histórico\n",
        "for message in chat.history:\n",
        "  display(to_markdown(f'**{message.role}**: {message.parts[0].text}'))\n",
        "  print('-------------------------------------------')"
      ],
      "metadata": {
        "colab": {
          "base_uri": "https://localhost:8080/",
          "height": 1000
        },
        "id": "Rq6HzFZ3Epnc",
        "outputId": "f7b0f4a6-3cd2-4948-ade3-42fb2179d99f"
      },
      "execution_count": 22,
      "outputs": [
        {
          "output_type": "display_data",
          "data": {
            "text/plain": [
              "<IPython.core.display.Markdown object>"
            ],
            "text/markdown": "> **user**: Cruzeiro Esporte Clube"
          },
          "metadata": {}
        },
        {
          "output_type": "stream",
          "name": "stdout",
          "text": [
            "-------------------------------------------\n"
          ]
        },
        {
          "output_type": "display_data",
          "data": {
            "text/plain": [
              "<IPython.core.display.Markdown object>"
            ],
            "text/markdown": "> **model**: **Cruzeiro Esporte Clube**\n> \n> **Apelidos:**\n> * Raposa\n> * Celeste\n> \n> **Fundação:**\n> * 2 de janeiro de 1921\n> \n> **Estádio:**\n> * Mineirão\n> \n> **Cidade:**\n> * Belo Horizonte, Minas Gerais\n> \n> **Torcida:**\n> * Maior torcida de Minas Gerais\n> * 3ª maior torcida do Brasil\n> \n> **Títulos Nacionais:**\n> \n> * Campeonato Brasileiro Série A: 4 (1966, 2003, 2013, 2014)\n> * Campeonato Brasileiro Série B: 1 (2022)\n> * Copa do Brasil: 6 (1993, 1996, 2000, 2003, 2017, 2018)\n> \n> **Títulos Internacionais:**\n> \n> * Copa Libertadores da América: 2 (1976, 1997)\n> * Copa Sul-Americana: 2 (1992, 2018)\n> * Recopa Sul-Americana: 1 (1998)\n> * Copa Master da Conmebol: 1 (1999)\n> \n> **Principais Jogadores:**\n> \n> * Tostão\n> * Ronaldo\n> * Rivaldo\n> * Alex\n> * Thiago Neves\n> \n> **Técnicos Marcantes:**\n> \n> * Telê Santana\n> * Vanderlei Luxemburgo\n> * Paulo Autuori\n> * Mano Menezes\n> * Rogério Ceni\n> \n> **Rivalidades:**\n> \n> * Atlético Mineiro\n> * América Mineiro\n> \n> **Símbolos:**\n> \n> * **Mascote:** Raposinha\n> * **Escudo:** Azul-celeste com uma cruz branca\n> * **Hino:** \"Hino do Cruzeiro\"\n> \n> **Outras Informações:**\n> \n> * O Cruzeiro é um dos clubes mais tradicionais e vitoriosos do futebol brasileiro.\n> * O clube tem uma das maiores torcidas do país e é conhecido por sua paixão e apoio incondicional.\n> * O Cruzeiro enfrentou dificuldades financeiras nos últimos anos, mas conseguiu se recuperar e retornar à elite do futebol brasileiro em 2023."
          },
          "metadata": {}
        },
        {
          "output_type": "stream",
          "name": "stdout",
          "text": [
            "-------------------------------------------\n"
          ]
        }
      ]
    }
  ]
}